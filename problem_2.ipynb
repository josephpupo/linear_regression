{
 "cells": [
  {
   "cell_type": "markdown",
   "metadata": {},
   "source": [
    "In this part, you will implement linear regression with multiple variables to predict the prices of houses. Suppose you are selling your house and you want to know what a good market price would be. One way to do this is to first collect information on recent houses sold and make a model of housing prices.\n",
    "\n",
    "The file ex1data2.txt contains a training set of housing prices in Portland, Oregon. The first column is the size of the house (in square feet), the second column is the number of bedrooms, and the third column is the price of the house."
   ]
  },
  {
   "cell_type": "code",
   "execution_count": 3,
   "metadata": {},
   "outputs": [
    {
     "name": "stdout",
     "output_type": "stream",
     "text": [
      "[2104, 1600, 2400, 1416, 3000, 1985, 1534, 1427, 1380, 1494, 1940, 2000, 1890, 4478, 1268, 2300, 1320, 1236, 2609, 3031, 1767, 1888, 1604, 1962, 3890, 1100, 1458, 2526, 2200, 2637, 1839, 1000, 2040, 3137, 1811, 1437, 1239, 2132, 4215, 2162, 1664, 2238, 2567, 1200, 852, 1852, 1203]\n",
      "[3, 3, 3, 2, 4, 4, 3, 3, 3, 3, 4, 3, 3, 5, 3, 4, 2, 3, 4, 4, 3, 2, 3, 4, 3, 3, 3, 3, 3, 3, 2, 1, 4, 3, 4, 3, 3, 4, 4, 4, 2, 3, 4, 3, 2, 4, 3]\n",
      "[399900, 329900, 369000, 232000, 539900, 299900, 314900, 198999, 212000, 242500, 239999, 347000, 329999, 699900, 259900, 449900, 299900, 199900, 499998, 599000, 252900, 255000, 242900, 259900, 573900, 249900, 464500, 469000, 475000, 299900, 349900, 169900, 314900, 579900, 285900, 249900, 229900, 345000, 549000, 287000, 368500, 329900, 314000, 299000, 179900, 299900, 239500]\n"
     ]
    }
   ],
   "source": [
    "# 2.1 Feature Normalization\n",
    "from statistics import mean\n",
    "import numpy as np\n",
    "\n",
    "# Read the Data\n",
    "dataset = open(\"ex1data2.txt\", \"r\")\n",
    "data = dataset.readlines()\n",
    "\n",
    "size = []\n",
    "bedrooms = []\n",
    "price = []\n",
    "for line in data:\n",
    "    line = line.strip()\n",
    "    split = line.split(',')\n",
    "\n",
    "    size.append(int(split[0]))\n",
    "    bedrooms.append(int(split[1]))\n",
    "    price.append(int(split[2]))\n",
    "\n",
    "# Normalize Features\n",
    "mean_s = mean(size)\n",
    "mean_b = mean(bedrooms)\n",
    "\n",
    "size = [s - mean_s for s in size]           # Subtract Mean\n",
    "bedrooms = [b - mean_b for b in bedrooms]\n",
    "\n",
    "s_array = np.array(size)\n",
    "b_array = np.array(bedrooms)\n",
    "\n",
    "std_s = np.std(s_array)                     # Divide by STD\n",
    "std_b = np.std(b_array)\n",
    "\n",
    "s_array / std_s\n",
    "b_array / std_b"
   ]
  }
 ],
 "metadata": {
  "kernelspec": {
   "display_name": "Python 3",
   "language": "python",
   "name": "python3"
  },
  "language_info": {
   "codemirror_mode": {
    "name": "ipython",
    "version": 3
   },
   "file_extension": ".py",
   "mimetype": "text/x-python",
   "name": "python",
   "nbconvert_exporter": "python",
   "pygments_lexer": "ipython3",
   "version": "3.8.5"
  }
 },
 "nbformat": 4,
 "nbformat_minor": 2
}
