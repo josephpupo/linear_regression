{
 "cells": [
  {
   "cell_type": "markdown",
   "metadata": {},
   "source": [
    "In this part, you will implement linear regression with multiple variables to predict the prices of houses. Suppose you are selling your house and you want to know what a good market price would be. One way to do this is to first collect information on recent houses sold and make a model of housing prices.\n",
    "\n",
    "The file ex1data2.txt contains a training set of housing prices in Portland, Oregon. The first column is the size of the house (in square feet), the second column is the number of bedrooms, and the third column is the price of the house."
   ]
  },
  {
   "cell_type": "code",
   "execution_count": 55,
   "metadata": {},
   "outputs": [
    {
     "data": {
      "text/plain": [
       "array([-0.22609337, -0.22609337, -0.22609337, -1.5543919 ,  1.10220517,\n",
       "        1.10220517, -0.22609337, -0.22609337, -0.22609337, -0.22609337,\n",
       "        1.10220517, -0.22609337, -0.22609337,  2.4305037 , -0.22609337,\n",
       "        1.10220517, -1.5543919 , -0.22609337,  1.10220517,  1.10220517,\n",
       "       -0.22609337, -1.5543919 , -0.22609337,  1.10220517, -0.22609337,\n",
       "       -0.22609337, -0.22609337, -0.22609337, -0.22609337, -0.22609337,\n",
       "       -1.5543919 , -2.88269044,  1.10220517, -0.22609337,  1.10220517,\n",
       "       -0.22609337, -0.22609337,  1.10220517,  1.10220517,  1.10220517,\n",
       "       -1.5543919 , -0.22609337,  1.10220517, -0.22609337, -1.5543919 ,\n",
       "        1.10220517, -0.22609337])"
      ]
     },
     "execution_count": 55,
     "metadata": {},
     "output_type": "execute_result"
    }
   ],
   "source": [
    "# 2.1 Feature Normalization\n",
    "from statistics import mean\n",
    "import numpy as np\n",
    "\n",
    "# Read the Data\n",
    "dataset = open(\"ex1data2.txt\", \"r\")\n",
    "data = dataset.readlines()\n",
    "\n",
    "size = []\n",
    "bedrooms = []\n",
    "price = []\n",
    "for line in data:\n",
    "    line = line.strip()\n",
    "    split = line.split(',')\n",
    "\n",
    "    size.append(int(split[0]))\n",
    "    bedrooms.append(int(split[1]))\n",
    "    price.append(int(split[2]))\n",
    "\n",
    "# Normalize Features\n",
    "mean_s = mean(size)\n",
    "mean_b = mean(bedrooms)\n",
    "\n",
    "size = [s - mean_s for s in size]           # Subtract Mean\n",
    "bedrooms = [b - mean_b for b in bedrooms]\n",
    "\n",
    "s_array = np.array(size)\n",
    "b_array = np.array(bedrooms)\n",
    "\n",
    "std_s = np.std(s_array)                     # Divide by STD\n",
    "std_b = np.std(b_array)\n",
    "\n",
    "s_array / std_s\n",
    "b_array / std_b"
   ]
  },
  {
   "cell_type": "code",
   "execution_count": 56,
   "metadata": {},
   "outputs": [
    {
     "name": "stdout",
     "output_type": "stream",
     "text": [
      "Accuracy:  0.7084365660884471\n",
      "MSE Test:  3989801968.927936\n",
      "MSE Train:  4366692356.773712\n"
     ]
    }
   ],
   "source": [
    "#2.2 Multivariable Linear Regression\n",
    "from sklearn.linear_model import LinearRegression\n",
    "from sklearn.model_selection import train_test_split\n",
    "from sklearn.metrics import mean_squared_error\n",
    "\n",
    "# Reshape Arrays\n",
    "s_array = s_array.reshape((-1,1))\n",
    "b_array = b_array.reshape((-1,1))\n",
    "features = np.column_stack((s_array, b_array))\n",
    "p_array = np.array(price).reshape((-1,1))\n",
    "\n",
    "#Split and Train the Data\n",
    "x_train, x_test, y_train, y_test = train_test_split(features, p_array, test_size = 0.3)\n",
    "\n",
    "model = LinearRegression()\n",
    "model.fit(x_train, y_train)\n",
    "\n",
    "# Predictions\n",
    "y_pred = model.predict(x_test)\n",
    "y_pred_train = model.predict(x_train)\n",
    "accuracy = model.score(x_test, y_test)\n",
    "print(\"Accuracy: \", accuracy)\n",
    "\n",
    "#Report Mean Squared Error\n",
    "mse_test = mean_squared_error(y_test, y_pred)\n",
    "mse_train = mean_squared_error(y_train, y_pred_train)\n",
    "\n",
    "print(\"MSE Test: \", mse_test)\n",
    "print(\"MSE Train: \", mse_train)\n"
   ]
  }
 ],
 "metadata": {
  "kernelspec": {
   "display_name": "Python 3",
   "language": "python",
   "name": "python3"
  },
  "language_info": {
   "codemirror_mode": {
    "name": "ipython",
    "version": 3
   },
   "file_extension": ".py",
   "mimetype": "text/x-python",
   "name": "python",
   "nbconvert_exporter": "python",
   "pygments_lexer": "ipython3",
   "version": "3.8.5"
  }
 },
 "nbformat": 4,
 "nbformat_minor": 2
}
